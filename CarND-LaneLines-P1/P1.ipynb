{
 "cells": [
  {
   "cell_type": "markdown",
   "metadata": {},
   "source": [
    "# Self-Driving Car Engineer Nanodegree\n",
    "\n",
    "\n",
    "## Project: **Finding Lane Lines on the Road** \n",
    "***\n",
    "In this project, you will use the tools you learned about in the lesson to identify lane lines on the road.  You can develop your pipeline on a series of individual images, and later apply the result to a video stream (really just a series of images). Check out the video clip \"raw-lines-example.mp4\" (also contained in this repository) to see what the output should look like after using the helper functions below. \n",
    "\n",
    "Once you have a result that looks roughly like \"raw-lines-example.mp4\", you'll need to get creative and try to average and/or extrapolate the line segments you've detected to map out the full extent of the lane lines.  You can see an example of the result you're going for in the video \"P1_example.mp4\".  Ultimately, you would like to draw just one line for the left side of the lane, and one for the right.\n",
    "\n",
    "In addition to implementing code, there is a brief writeup to complete. The writeup should be completed in a separate file, which can be either a markdown file or a pdf document. There is a [write up template](https://github.com/udacity/CarND-LaneLines-P1/blob/master/writeup_template.md) that can be used to guide the writing process. Completing both the code in the Ipython notebook and the writeup template will cover all of the [rubric points](https://review.udacity.com/#!/rubrics/322/view) for this project.\n",
    "\n",
    "---\n",
    "Let's have a look at our first image called 'test_images/solidWhiteRight.jpg'.  Run the 2 cells below (hit Shift-Enter or the \"play\" button above) to display the image.\n",
    "\n",
    "**Note: If, at any point, you encounter frozen display windows or other confounding issues, you can always start again with a clean slate by going to the \"Kernel\" menu above and selecting \"Restart & Clear Output\".**\n",
    "\n",
    "---"
   ]
  },
  {
   "cell_type": "markdown",
   "metadata": {},
   "source": [
    "**The tools you have are color selection, region of interest selection, grayscaling, Gaussian smoothing, Canny Edge Detection and Hough Tranform line detection.  You  are also free to explore and try other techniques that were not presented in the lesson.  Your goal is piece together a pipeline to detect the line segments in the image, then average/extrapolate them and draw them onto the image for display (as below).  Once you have a working pipeline, try it out on the video stream below.**\n",
    "\n",
    "---\n",
    "\n",
    "<figure>\n",
    " <img src=\"examples/line-segments-example.jpg\" width=\"380\" alt=\"Combined Image\" />\n",
    " <figcaption>\n",
    " <p></p> \n",
    " <p style=\"text-align: center;\"> Your output should look something like this (above) after detecting line segments using the helper functions below </p> \n",
    " </figcaption>\n",
    "</figure>\n",
    " <p></p> \n",
    "<figure>\n",
    " <img src=\"examples/laneLines_thirdPass.jpg\" width=\"380\" alt=\"Combined Image\" />\n",
    " <figcaption>\n",
    " <p></p> \n",
    " <p style=\"text-align: center;\"> Your goal is to connect/average/extrapolate line segments to get output like this</p> \n",
    " </figcaption>\n",
    "</figure>"
   ]
  },
  {
   "cell_type": "markdown",
   "metadata": {},
   "source": [
    "**Run the cell below to import some packages.  If you get an `import error` for a package you've already installed, try changing your kernel (select the Kernel menu above --> Change Kernel).  Still have problems?  Try relaunching Jupyter Notebook from the terminal prompt.  Also, consult the forums for more troubleshooting tips.**  "
   ]
  },
  {
   "cell_type": "markdown",
   "metadata": {},
   "source": [
    "## Import Packages"
   ]
  },
  {
   "cell_type": "code",
   "execution_count": null,
   "metadata": {},
   "outputs": [],
   "source": [
    "#importing some useful packages\n",
    "import matplotlib.pyplot as plt\n",
    "import matplotlib.image as mpimg\n",
    "import numpy as np\n",
    "import cv2\n",
    "%matplotlib inline"
   ]
  },
  {
   "cell_type": "markdown",
   "metadata": {},
   "source": [
    "## Read in an Image"
   ]
  },
  {
   "cell_type": "code",
   "execution_count": null,
   "metadata": {},
   "outputs": [],
   "source": [
    "#reading in an image\n",
    "image = mpimg.imread('test_images/solidWhiteRight.jpg')\n",
    "\n",
    "#printing out some stats and plotting\n",
    "print('This image is:', type(image), 'with dimensions:', image.shape)\n",
    "plt.imshow(image)  # if you wanted to show a single color channel image called 'gray', for example, call as plt.imshow(gray, cmap='gray')"
   ]
  },
  {
   "cell_type": "markdown",
   "metadata": {},
   "source": [
    "## Ideas for Lane Detection Pipeline"
   ]
  },
  {
   "cell_type": "markdown",
   "metadata": {},
   "source": [
    "**Some OpenCV functions (beyond those introduced in the lesson) that might be useful for this project are:**\n",
    "\n",
    "`cv2.inRange()` for color selection  \n",
    "`cv2.fillPoly()` for regions selection  \n",
    "`cv2.line()` to draw lines on an image given endpoints  \n",
    "`cv2.addWeighted()` to coadd / overlay two images\n",
    "`cv2.cvtColor()` to grayscale or change color\n",
    "`cv2.imwrite()` to output images to file  \n",
    "`cv2.bitwise_and()` to apply a mask to an image\n",
    "\n",
    "**Check out the OpenCV documentation to learn about these and discover even more awesome functionality!**"
   ]
  },
  {
   "cell_type": "markdown",
   "metadata": {},
   "source": [
    "## Helper Functions"
   ]
  },
  {
   "cell_type": "markdown",
   "metadata": {},
   "source": [
    "Below are some helper functions to help get you started. They should look familiar from the lesson!"
   ]
  },
  {
   "cell_type": "code",
   "execution_count": null,
   "metadata": {},
   "outputs": [],
   "source": [
    "import math\n",
    "\n",
    "def grayscale(img):\n",
    "    \"\"\"Applies the Grayscale transform\n",
    "    This will return an image with only one color channel\n",
    "    but NOTE: to see the returned image as grayscale\n",
    "    (assuming your grayscaled image is called 'gray')\n",
    "    you should call plt.imshow(gray, cmap='gray')\"\"\"\n",
    "    return cv2.cvtColor(img, cv2.COLOR_RGB2GRAY)\n",
    "    # Or use BGR2GRAY if you read an image with cv2.imread()\n",
    "    # return cv2.cvtColor(img, cv2.COLOR_BGR2GRAY)\n",
    "    \n",
    "def canny(img, low_threshold, high_threshold):\n",
    "    \"\"\"Applies the Canny transform\"\"\"\n",
    "    return cv2.Canny(img, low_threshold, high_threshold)\n",
    "\n",
    "def gaussian_blur(img, kernel_size):\n",
    "    \"\"\"Applies a Gaussian Noise kernel\"\"\"\n",
    "    return cv2.GaussianBlur(img, (kernel_size, kernel_size), 0)\n",
    "\n",
    "def region_of_interest(img, vertices):\n",
    "    \"\"\"\n",
    "    Applies an image mask.\n",
    "    \n",
    "    Only keeps the region of the image defined by the polygon\n",
    "    formed from `vertices`. The rest of the image is set to black.\n",
    "    \"\"\"\n",
    "    #defining a blank mask to start with\n",
    "    mask = np.zeros_like(img)   \n",
    "    \n",
    "    #defining a 3 channel or 1 channel color to fill the mask with depending on the input image\n",
    "    if len(img.shape) > 2:\n",
    "        channel_count = img.shape[2]  # i.e. 3 or 4 depending on your image\n",
    "        ignore_mask_color = (255,) * channel_count\n",
    "    else:\n",
    "        ignore_mask_color = 255\n",
    "        \n",
    "    #filling pixels inside the polygon defined by \"vertices\" with the fill color    \n",
    "    cv2.fillPoly(mask, vertices, ignore_mask_color)\n",
    "    \n",
    "    #returning the image only where mask pixels are nonzero\n",
    "    masked_image = cv2.bitwise_and(img, mask)\n",
    "    return masked_image\n",
    "\n",
    "def Remvoe_zero_slope(slope_list, x_list, y_list):\n",
    "    \"\"\"\n",
    "    Remove the lines with slope which is almost zero.\n",
    "    Because for the second video with yellow left line, there are several frames with horizontal lines\n",
    "    Such lines need to be removed to make the the average line stable\n",
    "    \"\"\"\n",
    "    ##copy the input slope list, x list and y list\n",
    "    copy_slope_list = slope_list.copy()\n",
    "    copy_x_list = x_list.copy()\n",
    "    copy_y_list = y_list.copy()\n",
    "    \n",
    "    ##flag to indicate whether a item is removed in this loop\n",
    "    Remove_flag = 0\n",
    "    \n",
    "    ##This line is only for testing purpose\n",
    "    ##print(\"The slope list before removing is: \"+str(copy_slope_list))\n",
    "    ##\n",
    "    \n",
    "    ##remove the horizontal slopes\n",
    "    for i in range(0, len(copy_slope_list)):\n",
    "        slope = copy_slope_list[i]\n",
    "        \n",
    "        if -0.1 < slope < 0.1:\n",
    "            copy_slope_list.remove(copy_slope_list[i])\n",
    "            copy_x_list.remove(copy_x_list[i])\n",
    "            copy_y_list.remove(copy_y_list[i])\n",
    "            Remove_flag = 1\n",
    "            break\n",
    "    \n",
    "    ##This line is only for testing purpose\n",
    "    ##print(\"The slope list after removing is: \"+str(copy_slope_list))\n",
    "    ##\n",
    "    \n",
    "    ##If not remove any slope, means all are non-zero slopes, then return the slope list\n",
    "    ##If remove a slope this time, need to do the recursion\n",
    "    if Remove_flag == 0:\n",
    "        return copy_slope_list, copy_x_list, copy_y_list\n",
    "    else:\n",
    "        return Remvoe_zero_slope(copy_slope_list, copy_x_list, copy_y_list)\n",
    "\n",
    "def optimize_values(slope_list, x_list, y_list):\n",
    "    '''\n",
    "    This function is used to remove the item which is quite different from the other items in the slope list\n",
    "    At the same time, remove the corresponding x and y points\n",
    "    '''\n",
    "    copy_slope_list = slope_list.copy()\n",
    "    \n",
    "    ##This line is only for testing purpose\n",
    "    ##print(\"The slope list is: \"+str(copy_slope_list))\n",
    "    ##\n",
    "    \n",
    "    copy_x_list = x_list.copy()\n",
    "    copy_y_list = y_list.copy()\n",
    "    average_slope = sum(copy_slope_list)/len(copy_slope_list)\n",
    "    \n",
    "    ##flag to indicate whether a item is removed in this loop\n",
    "    Remove_flag = 0\n",
    "\n",
    "    ##This line is only for testing purpose\n",
    "    ##print(len(copy_slope_list))\n",
    "    ##\n",
    "    \n",
    "    ##remove the different slopes\n",
    "    for i in range(0, len(copy_slope_list)):\n",
    "        slope = copy_slope_list[i]\n",
    "        \n",
    "        ##This line is only for testing purpose\n",
    "        ##print(\"Current slope is: \"+str(slope))\n",
    "        ##\n",
    "        \n",
    "        difference = abs((slope-average_slope)/average_slope)\n",
    "        \n",
    "        #delete the slope if it is more than 20% different from the average slope\n",
    "        if difference > 0.2:\n",
    "            \n",
    "            ##This line is only for testing purpose\n",
    "            ##print(\"###########Remove: \"+str(slope))\n",
    "            ##\n",
    "            \n",
    "            copy_slope_list.remove(copy_slope_list[i])\n",
    "            copy_x_list.remove(copy_x_list[i])\n",
    "            copy_y_list.remove(copy_y_list[i])\n",
    "            Remove_flag = 1\n",
    "            break\n",
    "            \n",
    "    ##If not remove any slope, then return the slope list\n",
    "    ##If remove a slope this time, need to do the recursion        \n",
    "    if Remove_flag == 1:\n",
    "        return optimize_values(copy_slope_list, copy_x_list, copy_y_list)\n",
    "    else:\n",
    "        return copy_slope_list, copy_x_list, copy_y_list\n",
    "\n",
    "def draw_lines(img, lines, color=[255, 0, 0], thickness=10):\n",
    "    \"\"\"\n",
    "    NOTE: this is the function you might want to use as a starting point once you want to \n",
    "    average/extrapolate the line segments you detect to map out the full\n",
    "    extent of the lane (going from the result shown in raw-lines-example.mp4\n",
    "    to that shown in P1_example.mp4).  \n",
    "    \n",
    "    Think about things like separating line segments by their \n",
    "    slope ((y2-y1)/(x2-x1)) to decide which segments are part of the left\n",
    "    line vs. the right line.  Then, you can average the position of each of \n",
    "    the lines and extrapolate to the top and bottom of the lane.\n",
    "    \n",
    "    This function draws `lines` with `color` and `thickness`.    \n",
    "    Lines are drawn on the image inplace (mutates the image).\n",
    "    If you want to make the lines semi-transparent, think about combining\n",
    "    this function with the weighted_img() function below\n",
    "    \"\"\"\n",
    "    ##Initial all the necessary parameters to calculate the average slope for left and right sides\n",
    "    slope_right = []\n",
    "    slope_left = []\n",
    "    x_right = []\n",
    "    y_right = []\n",
    "    x_left = []\n",
    "    y_left = []\n",
    "    \n",
    "    ##differentiate the recognized lines as left lines or right lines\n",
    "    for line in lines:\n",
    "        for x1,y1,x2,y2 in line:\n",
    "            slope = (y2-y1)/(x2-x1)\n",
    "            if slope > 0:\n",
    "                slope_right.append(slope)\n",
    "                x_right.append((x1+x2)/2)\n",
    "                y_right.append((y1+y2)/2)\n",
    "            elif slope < 0:\n",
    "                slope_left.append(slope)\n",
    "                x_left.append((x1+x2)/2)\n",
    "                y_left.append((y1+y2)/2)\n",
    "    \n",
    "    ##Remove the horizontal lines\n",
    "    new_slope_right, new_x_right, new_y_right = Remvoe_zero_slope(slope_right,x_right,y_right)\n",
    "    new_slope_left, new_x_left, new_y_left = Remvoe_zero_slope(slope_left,x_left,y_left)\n",
    "    ##Remove the slope and corresponding lines which are quite different from average slope value\n",
    "    new_new_slope_right, new_new_x_right, new_new_y_right = optimize_values(new_slope_right,new_x_right,new_y_right)\n",
    "    new_new_slope_left, new_new_x_left, new_new_y_left = optimize_values(new_slope_left,new_x_left,new_y_left)\n",
    "    \n",
    "    ##calculate the average left and right line and points\n",
    "    average_slope_left = sum(new_new_slope_left)/len(new_new_slope_left)\n",
    "    average_slope_right = sum(new_new_slope_right)/len(new_new_slope_right)\n",
    "    average_x_left = sum(new_new_x_left)/len(new_new_x_left)\n",
    "    average_y_left = sum(new_new_y_left)/len(new_new_y_left)\n",
    "    average_x_right = sum(new_new_x_right)/len(new_new_x_right)\n",
    "    average_y_right = sum(new_new_y_right)/len(new_new_y_right)\n",
    "    \n",
    "    ##Calcalute the start point and the end point based on the interested area\n",
    "    y1_left_right = img.shape[0]\n",
    "    y2_left_right = int(round(img.shape[0]/1.6))\n",
    "    x1_left = int(round((y1_left_right - average_y_left)/average_slope_left + average_x_left))\n",
    "    x2_left = int(round((y2_left_right - average_y_left)/average_slope_left + average_x_left))\n",
    "    x1_right = int(round((y1_left_right - average_y_right)/average_slope_right + average_x_right))\n",
    "    x2_right = int(round((y2_left_right - average_y_right)/average_slope_right + average_x_right))\n",
    "    \n",
    "    ##draw the lines\n",
    "    cv2.line(img, (x1_left, y1_left_right), (x2_left, y2_left_right), color, thickness)\n",
    "    cv2.line(img, (x1_right, y1_left_right), (x2_right, y2_left_right), color, thickness)\n",
    "    \n",
    "def hough_lines(img, rho, theta, threshold, min_line_len, max_line_gap):\n",
    "    \"\"\"\n",
    "    `img` should be the output of a Canny transform.\n",
    "        \n",
    "    Returns an image with hough lines drawn.\n",
    "    \"\"\"\n",
    "    lines = cv2.HoughLinesP(img, rho, theta, threshold, np.array([]), minLineLength=min_line_len, maxLineGap=max_line_gap)\n",
    "    line_img = np.zeros((img.shape[0], img.shape[1], 3), dtype=np.uint8)\n",
    "    draw_lines(line_img, lines)\n",
    "    return line_img\n",
    "\n",
    "# Python 3 has support for cool math symbols.\n",
    "\n",
    "def weighted_img(img, initial_img, α=0.8, β=1., γ=0.):\n",
    "    \"\"\"\n",
    "    `img` is the output of the hough_lines(), An image with lines drawn on it.\n",
    "    Should be a blank image (all black) with lines drawn on it.\n",
    "    \n",
    "    `initial_img` should be the image before any processing.\n",
    "    \n",
    "    The result image is computed as follows:\n",
    "    \n",
    "    initial_img * α + img * β + γ\n",
    "    NOTE: initial_img and img must be the same shape!\n",
    "    \"\"\"\n",
    "    return cv2.addWeighted(initial_img, α, img, β, γ)"
   ]
  },
  {
   "cell_type": "markdown",
   "metadata": {},
   "source": [
    "## Test Images\n",
    "\n",
    "Build your pipeline to work on the images in the directory \"test_images\"  \n",
    "**You should make sure your pipeline works well on these images before you try the videos.**"
   ]
  },
  {
   "cell_type": "code",
   "execution_count": null,
   "metadata": {},
   "outputs": [],
   "source": [
    "import os\n",
    "os.listdir(\"test_images/\")"
   ]
  },
  {
   "cell_type": "markdown",
   "metadata": {},
   "source": [
    "## Build a Lane Finding Pipeline\n",
    "\n"
   ]
  },
  {
   "cell_type": "markdown",
   "metadata": {},
   "source": [
    "Build the pipeline and run your solution on all test_images. Make copies into the `test_images_output` directory, and you can use the images in your writeup report.\n",
    "\n",
    "Try tuning the various parameters, especially the low and high Canny thresholds as well as the Hough lines parameters."
   ]
  },
  {
   "cell_type": "code",
   "execution_count": null,
   "metadata": {},
   "outputs": [],
   "source": [
    "# TODO: Build your pipeline that will draw lane lines on the test_images\n",
    "# then save them to the test_images_output directory.\n",
    "def myPipeline(img):\n",
    "    #convert the original image to grayscale image\n",
    "    gray_img = grayscale(img)\n",
    "    \n",
    "    ##Only for testing purpose\n",
    "    ##plt.imshow(gray_img,cmap=\"gray\")\n",
    "    ##mpimg.imsave('test_images_output/solidWhiteCurve1.jpg',gray_img)\n",
    "    \n",
    "    #do gaussian blurring to filter random noise before the canny edge detection\n",
    "    kernel_size = 5\n",
    "    blurred_img = gaussian_blur(gray_img, kernel_size)\n",
    "    \n",
    "    ##Only for testing purpose\n",
    "    ##plt.imshow(blurred_image, cmap=\"gray\")\n",
    "    ##mpimg.imsave('test_images_output/solidWhiteCurve2.jpg',blurred_img)\n",
    "    \n",
    "    #do canny edge detection based on the gaussian blurred and grayscale image\n",
    "    low_threshold = 80\n",
    "    high_threshold = 100\n",
    "    edge_img = canny(blurred_img, low_threshold, high_threshold)\n",
    "    \n",
    "    ##Only for testing purpose\n",
    "    ##plt.imshow(edge_img, cmap=\"gray\")\n",
    "    ##mpimg.imsave('test_images_output/solidWhiteCurve3.jpg',edge_img)\n",
    "    \n",
    "    #filter the interested region\n",
    "    img_shape = img.shape\n",
    "    vertices = np.array([[(img_shape[1]*0.02,img_shape[0]),(img_shape[1]/2, img_shape[0]/1.75), (img_shape[1]*0.98,img_shape[0])]], dtype=np.int32)\n",
    "    interested_img = region_of_interest(edge_img, vertices) \n",
    "    \n",
    "    ##Only for testing purpose\n",
    "    ##plt.imshow(interested_img, cmap=\"gray\")\n",
    "    ##mpimg.imsave('test_images_output/solidWhiteCurve4.jpg',interested_img)   \n",
    "    \n",
    "    # Define the Hough transform parameters\n",
    "    rho = 1 # distance resolution in pixels of the Hough grid\n",
    "    theta = np.pi/180 # angular resolution in radians of the Hough grid\n",
    "    threshold = 30     # minimum number of votes (intersections in Hough grid cell)\n",
    "    min_line_len = 40 #minimum number of pixels making up a line\n",
    "    max_line_gap = 30    # maximum gap in pixels between connectable line segments\n",
    "    line_img = hough_lines(interested_img, rho, theta, threshold, min_line_len, max_line_gap)\n",
    "    \n",
    "    ##mpimg.imsave('test_images_output/solidWhiteCurve5.jpg',line_img)\n",
    "    \n",
    "    #draw the line_image with the original image\n",
    "    combined_img = weighted_img(line_img, img, α=0.8, β=1., γ=0.)\n",
    "    \n",
    "    ##Only for testing purpose\n",
    "    ##plt.imshow(combined_img)\n",
    "    ##print(\"My pipeline function is finished!\")\n",
    "    ##mpimg.imsave('test_images_output/solidWhiteCurve6.jpg',combined_img)\n",
    "    \n",
    "    return combined_img\n",
    "\n",
    "    ##This line is for testing each image in the folder\n",
    "    ##myPipeline(image)\n",
    "\n",
    "# image = mpimg.imread('test_images/solidWhiteCurve.jpg')\n",
    "# myPipeline(image)\n",
    "\n",
    "##read all the images in the direction and then process them with myPipeline function\n",
    "##and save them to the output folder\n",
    "img_list = os.listdir(\"test_images/\")\n",
    "\n",
    "for image_name in img_list:\n",
    "    #read the image according to the image name\n",
    "    image = mpimg.imread('test_images/'+str(image_name))\n",
    "                        \n",
    "    #save the output image to the required directory\n",
    "    mpimg.imsave(\"test_images_output/\"+str(image_name),myPipeline(image))"
   ]
  },
  {
   "cell_type": "markdown",
   "metadata": {},
   "source": [
    "## Test on Videos\n",
    "\n",
    "You know what's cooler than drawing lanes over images? Drawing lanes over video!\n",
    "\n",
    "We can test our solution on two provided videos:\n",
    "\n",
    "`solidWhiteRight.mp4`\n",
    "\n",
    "`solidYellowLeft.mp4`\n",
    "\n",
    "**Note: if you get an import error when you run the next cell, try changing your kernel (select the Kernel menu above --> Change Kernel). Still have problems? Try relaunching Jupyter Notebook from the terminal prompt. Also, consult the forums for more troubleshooting tips.**\n",
    "\n",
    "**If you get an error that looks like this:**\n",
    "```\n",
    "NeedDownloadError: Need ffmpeg exe. \n",
    "You can download it by calling: \n",
    "imageio.plugins.ffmpeg.download()\n",
    "```\n",
    "**Follow the instructions in the error message and check out [this forum post](https://discussions.udacity.com/t/project-error-of-test-on-videos/274082) for more troubleshooting tips across operating systems.**"
   ]
  },
  {
   "cell_type": "code",
   "execution_count": null,
   "metadata": {},
   "outputs": [],
   "source": [
    "# Import everything needed to edit/save/watch video clips\n",
    "from moviepy.editor import VideoFileClip\n",
    "from IPython.display import HTML"
   ]
  },
  {
   "cell_type": "code",
   "execution_count": null,
   "metadata": {},
   "outputs": [],
   "source": [
    "def process_image(image):\n",
    "    # NOTE: The output you return should be a color image (3 channel) for processing video below\n",
    "    # TODO: put your pipeline here,\n",
    "    # you should return the final output (image where lines are drawn on lanes)\n",
    "\n",
    "    return myPipeline(image)"
   ]
  },
  {
   "cell_type": "markdown",
   "metadata": {},
   "source": [
    "Let's try the one with the solid white lane on the right first ..."
   ]
  },
  {
   "cell_type": "code",
   "execution_count": null,
   "metadata": {},
   "outputs": [],
   "source": [
    "white_output = 'test_videos_output/solidWhiteRight.mp4'\n",
    "## To speed up the testing process you may want to try your pipeline on a shorter subclip of the video\n",
    "## To do so add .subclip(start_second,end_second) to the end of the line below\n",
    "## Where start_second and end_second are integer values representing the start and end of the subclip\n",
    "## You may also uncomment the following line for a subclip of the first 5 seconds\n",
    "##clip1 = VideoFileClip(\"test_videos/solidWhiteRight.mp4\").subclip(0,5)\n",
    "clip1 = VideoFileClip(\"test_videos/solidWhiteRight.mp4\")\n",
    "white_clip = clip1.fl_image(process_image) #NOTE: this function expects color images!!\n",
    "%time white_clip.write_videofile(white_output, audio=False)"
   ]
  },
  {
   "cell_type": "markdown",
   "metadata": {},
   "source": [
    "Play the video inline, or if you prefer find the video in your filesystem (should be in the same directory) and play it in your video player of choice."
   ]
  },
  {
   "cell_type": "code",
   "execution_count": null,
   "metadata": {
    "scrolled": true
   },
   "outputs": [],
   "source": [
    "HTML(\"\"\"\n",
    "<video width=\"960\" height=\"540\" controls>\n",
    "  <source src=\"{0}\">\n",
    "</video>\n",
    "\"\"\".format(white_output))"
   ]
  },
  {
   "cell_type": "markdown",
   "metadata": {},
   "source": [
    "## Improve the draw_lines() function\n",
    "\n",
    "**At this point, if you were successful with making the pipeline and tuning parameters, you probably have the Hough line segments drawn onto the road, but what about identifying the full extent of the lane and marking it clearly as in the example video (P1_example.mp4)?  Think about defining a line to run the full length of the visible lane based on the line segments you identified with the Hough Transform. As mentioned previously, try to average and/or extrapolate the line segments you've detected to map out the full extent of the lane lines. You can see an example of the result you're going for in the video \"P1_example.mp4\".**\n",
    "\n",
    "**Go back and modify your draw_lines function accordingly and try re-running your pipeline. The new output should draw a single, solid line over the left lane line and a single, solid line over the right lane line. The lines should start from the bottom of the image and extend out to the top of the region of interest.**"
   ]
  },
  {
   "cell_type": "markdown",
   "metadata": {},
   "source": [
    "Now for the one with the solid yellow lane on the left. This one's more tricky!"
   ]
  },
  {
   "cell_type": "code",
   "execution_count": null,
   "metadata": {},
   "outputs": [],
   "source": [
    "yellow_output = 'test_videos_output/solidYellowLeft.mp4'\n",
    "## To speed up the testing process you may want to try your pipeline on a shorter subclip of the video\n",
    "## To do so add .subclip(start_second,end_second) to the end of the line below\n",
    "## Where start_second and end_second are integer values representing the start and end of the subclip\n",
    "## You may also uncomment the following line for a subclip of the first 5 seconds\n",
    "# clip2 = VideoFileClip('test_videos/solidYellowLeft.mp4').subclip(10,15)\n",
    "clip2 = VideoFileClip('test_videos/solidYellowLeft.mp4')\n",
    "yellow_clip = clip2.fl_image(process_image)\n",
    "%time yellow_clip.write_videofile(yellow_output, audio=False)"
   ]
  },
  {
   "cell_type": "code",
   "execution_count": null,
   "metadata": {},
   "outputs": [],
   "source": [
    "HTML(\"\"\"\n",
    "<video width=\"960\" height=\"540\" controls>\n",
    "  <source src=\"{0}\">\n",
    "</video>\n",
    "\"\"\".format(yellow_output))"
   ]
  },
  {
   "cell_type": "markdown",
   "metadata": {},
   "source": [
    "## Writeup and Submission\n",
    "\n",
    "If you're satisfied with your video outputs, it's time to make the report writeup in a pdf or markdown file. Once you have this Ipython notebook ready along with the writeup, it's time to submit for review! Here is a [link](https://github.com/udacity/CarND-LaneLines-P1/blob/master/writeup_template.md) to the writeup template file.\n"
   ]
  },
  {
   "cell_type": "markdown",
   "metadata": {
    "collapsed": true
   },
   "source": [
    "## Optional Challenge\n",
    "\n",
    "Try your lane finding pipeline on the video below.  Does it still work?  Can you figure out a way to make it more robust?  If you're up for the challenge, modify your pipeline so it works with this video and submit it along with the rest of your project!"
   ]
  },
  {
   "cell_type": "code",
   "execution_count": null,
   "metadata": {},
   "outputs": [],
   "source": [
    "challenge_output = 'test_videos_output/challenge.mp4'\n",
    "## To speed up the testing process you may want to try your pipeline on a shorter subclip of the video\n",
    "## To do so add .subclip(start_second,end_second) to the end of the line below\n",
    "## Where start_second and end_second are integer values representing the start and end of the subclip\n",
    "## You may also uncomment the following line for a subclip of the first 5 seconds\n",
    "##clip3 = VideoFileClip('test_videos/challenge.mp4').subclip(0,5)\n",
    "clip3 = VideoFileClip('test_videos/challenge.mp4')\n",
    "challenge_clip = clip3.fl_image(process_image)\n",
    "%time challenge_clip.write_videofile(challenge_output, audio=False)"
   ]
  },
  {
   "cell_type": "code",
   "execution_count": null,
   "metadata": {},
   "outputs": [],
   "source": [
    "HTML(\"\"\"\n",
    "<video width=\"960\" height=\"540\" controls>\n",
    "  <source src=\"{0}\">\n",
    "</video>\n",
    "\"\"\".format(challenge_output))"
   ]
  }
 ],
 "metadata": {
  "anaconda-cloud": {},
  "kernelspec": {
   "display_name": "Python 3",
   "language": "python",
   "name": "python3"
  },
  "language_info": {
   "codemirror_mode": {
    "name": "ipython",
    "version": 3
   },
   "file_extension": ".py",
   "mimetype": "text/x-python",
   "name": "python",
   "nbconvert_exporter": "python",
   "pygments_lexer": "ipython3",
   "version": "3.5.2"
  },
  "widgets": {
   "state": {},
   "version": "1.1.2"
  }
 },
 "nbformat": 4,
 "nbformat_minor": 1
}
